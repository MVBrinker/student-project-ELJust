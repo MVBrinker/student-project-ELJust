{
 "cells": [
  {
   "cell_type": "markdown",
   "metadata": {},
   "source": [
    "# Woessmann - The Importance of School System"
   ]
  },
  {
   "cell_type": "markdown",
   "metadata": {},
   "source": [
    "This notebook replicates results from\n",
    "\n",
    "L. Woessmann (2016), The Importance of School Systems: Evidence from International Differences in Student Achievement.\n",
    "Journal of Economic Perspectives—Volume 30, Number 3—Summer 2016—Pages 3–32"
   ]
  },
  {
   "cell_type": "code",
   "execution_count": 1,
   "metadata": {
    "collapsed": true
   },
   "outputs": [],
   "source": [
    "import pandas as pd\n",
    "import numpy as np\n",
    "import statsmodels.api as sm\n",
    "import seaborn as sns\n",
    "import matplotlib.pyplot as plt"
   ]
  },
  {
   "cell_type": "markdown",
   "metadata": {},
   "source": [
    "## Introduction"
   ]
  },
  {
   "cell_type": "markdown",
   "metadata": {},
   "source": [
    "Woessmann shows in his paper that differences in student achievement across countries are systematically related to differences in organisation and governance of school systems, such as external exit exams, autonomy of course and teacher choice. In other words, the way the school system is set up matters for student performance.\n",
    "\n",
    "\n",
    "**Agenda of the paper:** \n",
    "\n",
    "* Woessmann first describes the size and cross-test consistency of international differences in student achievement,\n",
    "* then uses an education production function to describe the relation of factors of (and beyond the) respective school system to achievement differences,\n",
    "* and adds a discussion and conclusion.\n",
    "\n",
    "The education production function used by the author is given by:\n",
    "\n",
    "$achievement_s = \\alpha family + \\beta resources + \\gamma institutional$\n",
    "    \n",
    "where achievement is the student achievement by country, which is regressed on three collapsed aggregate country level variables: family background, school resources and institutional structures of the school system"
   ]
  },
  {
   "cell_type": "markdown",
   "metadata": {},
   "source": [
    "## Visualization of the Identification Strategy & Issues"
   ]
  },
  {
   "cell_type": "code",
   "execution_count": null,
   "metadata": {
    "collapsed": true
   },
   "outputs": [],
   "source": []
  },
  {
   "cell_type": "code",
   "execution_count": null,
   "metadata": {
    "collapsed": true
   },
   "outputs": [],
   "source": []
  },
  {
   "cell_type": "markdown",
   "metadata": {},
   "source": [
    "## Data Analysis"
   ]
  },
  {
   "cell_type": "markdown",
   "metadata": {},
   "source": [
    "After a discussion of various international tests, they select the OECD PISA test with data from 2003. PISA assesses \"knowledge and skills essential for full participation in our modern society\" (footnote) and draws a random sample of 15year-olds in a two-stage sampling. The dataset they work with relates school system to student achievement in 29 OECD countries."
   ]
  },
  {
   "cell_type": "code",
   "execution_count": 3,
   "metadata": {},
   "outputs": [],
   "source": [
    "# Read in the data and convert .dta file to .csv\n",
    "data = pd.io.stata.read_stata('data/pisa2003_oecd_jep.dta')\n",
    "data.to_csv('data/pisa2003_oecd_jep.csv')\n",
    "\n",
    "# Create pandas Dataframe\n",
    "df = pd.DataFrame(data=data)"
   ]
  },
  {
   "cell_type": "markdown",
   "metadata": {},
   "source": [
    "As the author focuses on three groups of input factors: family background factors, institutional factors, and school resources, the next table is created to get a nice first look at the data."
   ]
  },
  {
   "cell_type": "code",
   "execution_count": 5,
   "metadata": {},
   "outputs": [
    {
     "data": {
      "text/html": [
       "<div>\n",
       "<style scoped>\n",
       "    .dataframe tbody tr th:only-of-type {\n",
       "        vertical-align: middle;\n",
       "    }\n",
       "\n",
       "    .dataframe tbody tr th {\n",
       "        vertical-align: top;\n",
       "    }\n",
       "\n",
       "    .dataframe thead tr th {\n",
       "        text-align: left;\n",
       "    }\n",
       "</style>\n",
       "<table border=\"1\" class=\"dataframe\">\n",
       "  <thead>\n",
       "    <tr>\n",
       "      <th></th>\n",
       "      <th>test_score</th>\n",
       "      <th colspan=\"6\" halign=\"left\">School resources</th>\n",
       "      <th colspan=\"3\" halign=\"left\">Family Background</th>\n",
       "      <th>...</th>\n",
       "      <th colspan=\"10\" halign=\"left\">Institution</th>\n",
       "    </tr>\n",
       "    <tr>\n",
       "      <th></th>\n",
       "      <th>pv1math</th>\n",
       "      <th>expps</th>\n",
       "      <th>davailinstmat4</th>\n",
       "      <th>davailinstmat1</th>\n",
       "      <th>insttimemath</th>\n",
       "      <th>propcert</th>\n",
       "      <th>propqped</th>\n",
       "      <th>escs</th>\n",
       "      <th>age</th>\n",
       "      <th>female</th>\n",
       "      <th>...</th>\n",
       "      <th>purcompave</th>\n",
       "      <th>purstudgrp</th>\n",
       "      <th>autstartsal</th>\n",
       "      <th>icautstartsal</th>\n",
       "      <th>autformbudget</th>\n",
       "      <th>icautformbudget</th>\n",
       "      <th>autcontent</th>\n",
       "      <th>icautcontent</th>\n",
       "      <th>authire</th>\n",
       "      <th>icauthire</th>\n",
       "    </tr>\n",
       "  </thead>\n",
       "  <tbody>\n",
       "    <tr>\n",
       "      <th>0</th>\n",
       "      <td>418.086914</td>\n",
       "      <td>59.264999</td>\n",
       "      <td>0.0</td>\n",
       "      <td>0.0</td>\n",
       "      <td>0.0</td>\n",
       "      <td>1.0</td>\n",
       "      <td>0.62</td>\n",
       "      <td>-0.758119</td>\n",
       "      <td>16.25</td>\n",
       "      <td>0</td>\n",
       "      <td>...</td>\n",
       "      <td>0.0</td>\n",
       "      <td>1.0</td>\n",
       "      <td>0.0</td>\n",
       "      <td>0.0</td>\n",
       "      <td>1.0</td>\n",
       "      <td>0.814</td>\n",
       "      <td>1.0</td>\n",
       "      <td>0.814</td>\n",
       "      <td>0.0</td>\n",
       "      <td>0.0</td>\n",
       "    </tr>\n",
       "    <tr>\n",
       "      <th>1</th>\n",
       "      <td>446.985504</td>\n",
       "      <td>59.264999</td>\n",
       "      <td>0.0</td>\n",
       "      <td>0.0</td>\n",
       "      <td>300.0</td>\n",
       "      <td>1.0</td>\n",
       "      <td>0.63</td>\n",
       "      <td>0.706989</td>\n",
       "      <td>15.92</td>\n",
       "      <td>0</td>\n",
       "      <td>...</td>\n",
       "      <td>0.0</td>\n",
       "      <td>1.0</td>\n",
       "      <td>0.0</td>\n",
       "      <td>0.0</td>\n",
       "      <td>1.0</td>\n",
       "      <td>0.814</td>\n",
       "      <td>1.0</td>\n",
       "      <td>0.814</td>\n",
       "      <td>0.0</td>\n",
       "      <td>0.0</td>\n",
       "    </tr>\n",
       "    <tr>\n",
       "      <th>2</th>\n",
       "      <td>501.822693</td>\n",
       "      <td>59.264999</td>\n",
       "      <td>0.0</td>\n",
       "      <td>0.0</td>\n",
       "      <td>250.0</td>\n",
       "      <td>1.0</td>\n",
       "      <td>0.90</td>\n",
       "      <td>-0.542674</td>\n",
       "      <td>16.00</td>\n",
       "      <td>1</td>\n",
       "      <td>...</td>\n",
       "      <td>0.0</td>\n",
       "      <td>1.0</td>\n",
       "      <td>0.0</td>\n",
       "      <td>0.0</td>\n",
       "      <td>1.0</td>\n",
       "      <td>0.814</td>\n",
       "      <td>1.0</td>\n",
       "      <td>0.814</td>\n",
       "      <td>0.0</td>\n",
       "      <td>0.0</td>\n",
       "    </tr>\n",
       "    <tr>\n",
       "      <th>3</th>\n",
       "      <td>506.807892</td>\n",
       "      <td>59.264999</td>\n",
       "      <td>0.0</td>\n",
       "      <td>0.0</td>\n",
       "      <td>500.0</td>\n",
       "      <td>1.0</td>\n",
       "      <td>0.68</td>\n",
       "      <td>-0.267831</td>\n",
       "      <td>15.33</td>\n",
       "      <td>1</td>\n",
       "      <td>...</td>\n",
       "      <td>0.0</td>\n",
       "      <td>1.0</td>\n",
       "      <td>0.0</td>\n",
       "      <td>0.0</td>\n",
       "      <td>1.0</td>\n",
       "      <td>0.814</td>\n",
       "      <td>1.0</td>\n",
       "      <td>0.814</td>\n",
       "      <td>0.0</td>\n",
       "      <td>0.0</td>\n",
       "    </tr>\n",
       "    <tr>\n",
       "      <th>4</th>\n",
       "      <td>341.828888</td>\n",
       "      <td>59.264999</td>\n",
       "      <td>0.0</td>\n",
       "      <td>0.0</td>\n",
       "      <td>200.0</td>\n",
       "      <td>1.0</td>\n",
       "      <td>0.62</td>\n",
       "      <td>0.021161</td>\n",
       "      <td>15.92</td>\n",
       "      <td>1</td>\n",
       "      <td>...</td>\n",
       "      <td>0.0</td>\n",
       "      <td>1.0</td>\n",
       "      <td>0.0</td>\n",
       "      <td>0.0</td>\n",
       "      <td>1.0</td>\n",
       "      <td>0.814</td>\n",
       "      <td>1.0</td>\n",
       "      <td>0.814</td>\n",
       "      <td>0.0</td>\n",
       "      <td>0.0</td>\n",
       "    </tr>\n",
       "  </tbody>\n",
       "</table>\n",
       "<p>5 rows × 57 columns</p>\n",
       "</div>"
      ],
      "text/plain": [
       "   test_score School resources                                             \\\n",
       "      pv1math            expps davailinstmat4 davailinstmat1 insttimemath   \n",
       "0  418.086914        59.264999            0.0            0.0          0.0   \n",
       "1  446.985504        59.264999            0.0            0.0        300.0   \n",
       "2  501.822693        59.264999            0.0            0.0        250.0   \n",
       "3  506.807892        59.264999            0.0            0.0        500.0   \n",
       "4  341.828888        59.264999            0.0            0.0        200.0   \n",
       "\n",
       "                    Family Background                ... Institution  \\\n",
       "  propcert propqped              escs    age female  ...  purcompave   \n",
       "0      1.0     0.62         -0.758119  16.25      0  ...         0.0   \n",
       "1      1.0     0.63          0.706989  15.92      0  ...         0.0   \n",
       "2      1.0     0.90         -0.542674  16.00      1  ...         0.0   \n",
       "3      1.0     0.68         -0.267831  15.33      1  ...         0.0   \n",
       "4      1.0     0.62          0.021161  15.92      1  ...         0.0   \n",
       "\n",
       "                                                                      \\\n",
       "  purstudgrp autstartsal icautstartsal autformbudget icautformbudget   \n",
       "0        1.0         0.0           0.0           1.0           0.814   \n",
       "1        1.0         0.0           0.0           1.0           0.814   \n",
       "2        1.0         0.0           0.0           1.0           0.814   \n",
       "3        1.0         0.0           0.0           1.0           0.814   \n",
       "4        1.0         0.0           0.0           1.0           0.814   \n",
       "\n",
       "                                             \n",
       "  autcontent icautcontent authire icauthire  \n",
       "0        1.0        0.814     0.0       0.0  \n",
       "1        1.0        0.814     0.0       0.0  \n",
       "2        1.0        0.814     0.0       0.0  \n",
       "3        1.0        0.814     0.0       0.0  \n",
       "4        1.0        0.814     0.0       0.0  \n",
       "\n",
       "[5 rows x 57 columns]"
      ]
     },
     "execution_count": 5,
     "metadata": {},
     "output_type": "execute_result"
    }
   ],
   "source": [
    "c_res = df[['expps', 'davailinstmat4', 'davailinstmat1', 'insttimemath', 'propcert', 'propqped']]\n",
    "c_fam = df[['escs', 'age', 'female', 'dstupreprim2', 'ageprim', 'repisced1', 'repisced2', 'dgrade7', 'dgrade8', 'dgrade9', 'dgrade11', 'dgrade12', 'dliveone', 'dlivepatch', 'dliveboth', 'dworkstat4', 'dworkstat3', 'dworkstat2', 'dworkstat1', 'dhsecateg3', 'dhsecateg2', 'dhsecateg1', 'dbook2', 'dbook3', 'dbook4', 'dbook5', 'dbook6', 'dimmig2', 'dimmig3', 'dstulanguage3', 'dstulanguage4', 'dschoolloc23', 'dschoolloc4', 'dschoolloc5']]\n",
    "c_ins = df[['cprivate', 'cschoolbudgetgov', 'mcentexa', 'purstudret', 'teacassprin', 'teacassextinsp', 'purcompave', 'purstudgrp', 'autstartsal', 'icautstartsal', 'autformbudget', 'icautformbudget', 'autcontent', 'icautcontent', 'authire', 'icauthire']]\n",
    "\n",
    "# create new dataset with all the variables sorted into the higher order input factors\n",
    "df_overview = pd.concat([df['pv1math'], c_res, c_fam, c_ins], axis =1, keys=['test_score', 'School resources', 'Family Background', 'Institution'])\n",
    "df_overview.head()"
   ]
  },
  {
   "cell_type": "markdown",
   "metadata": {},
   "source": [
    "The PISA test draws a random sample of 15-year-olds to take it; let's look at the age distribution in the data."
   ]
  },
  {
   "cell_type": "code",
   "execution_count": 7,
   "metadata": {},
   "outputs": [
    {
     "data": {
      "image/png": "[encoded data removed]",
      "text/plain": [
       "<matplotlib.figure.Figure at 0xfe5db0>"
      ]
     },
     "metadata": {},
     "output_type": "display_data"
    }
   ],
   "source": [
    "columns = ['age']\n",
    "for column in columns:\n",
    "    nonzero_entries = df[column].where(df[column] > 0).dropna()\n",
    "    ax = sns.distplot(nonzero_entries)\n",
    "    ax.set_xlim(15.2, 16.4)\n",
    "    plt.show()  "
   ]
  },
  {
   "cell_type": "markdown",
   "metadata": {},
   "source": [
    "Apparently, 16-year-olds classify as 15 with PISA. There might be some time difference between selection and test-taking... Need to read up on this.\n",
    "\n",
    "Also interesting: the distribution between male and female test-takers and the distribution of test scores."
   ]
  },
  {
   "cell_type": "code",
   "execution_count": 8,
   "metadata": {},
   "outputs": [
    {
     "name": "stderr",
     "output_type": "stream",
     "text": [
      "C:\\Users\\Eva\\AppData\\Local\\Continuum\\anaconda3\\lib\\site-packages\\seaborn\\categorical.py:1460: FutureWarning: remove_na is deprecated and is a private function. Do not use.\n",
      "  stat_data = remove_na(group_data)\n"
     ]
    },
    {
     "data": {
      "image/png": "[encoded data removed]",
      "text/plain": [
       "<matplotlib.figure.Figure at 0xfe5730>"
      ]
     },
     "metadata": {},
     "output_type": "display_data"
    },
    {
     "name": "stderr",
     "output_type": "stream",
     "text": [
      "C:\\Users\\Eva\\AppData\\Local\\Continuum\\anaconda3\\lib\\site-packages\\seaborn\\categorical.py:1460: FutureWarning: remove_na is deprecated and is a private function. Do not use.\n",
      "  stat_data = remove_na(group_data)\n"
     ]
    },
    {
     "data": {
      "image/png": "[encoded data removed]",
      "text/plain": [
       "<matplotlib.figure.Figure at 0x64a5110>"
      ]
     },
     "metadata": {},
     "output_type": "display_data"
    }
   ],
   "source": [
    "columns = ['female', 'pv1math']\n",
    "for column in columns:\n",
    "    sns.countplot(df[column], color=\"#1f77b4\")\n",
    "    plt.show()"
   ]
  },
  {
   "cell_type": "markdown",
   "metadata": {},
   "source": [
    "The number of male/female test takers is pretty equal. The math test scores measured by 'pv1math' looks pretty normally distributed, though I have to do something with the labelling of the x-axis."
   ]
  },
  {
   "cell_type": "code",
   "execution_count": null,
   "metadata": {
    "collapsed": true
   },
   "outputs": [],
   "source": []
  },
  {
   "cell_type": "markdown",
   "metadata": {},
   "source": [
    "## Replication"
   ]
  },
  {
   "cell_type": "code",
   "execution_count": null,
   "metadata": {
    "collapsed": true
   },
   "outputs": [],
   "source": []
  },
  {
   "cell_type": "code",
   "execution_count": null,
   "metadata": {
    "collapsed": true
   },
   "outputs": [],
   "source": []
  }
 ],
 "metadata": {
  "kernelspec": {
   "display_name": "Python 3",
   "language": "python",
   "name": "python3"
  },
  "language_info": {
   "codemirror_mode": {
    "name": "ipython",
    "version": 3
   },
   "file_extension": ".py",
   "mimetype": "text/x-python",
   "name": "python",
   "nbconvert_exporter": "python",
   "pygments_lexer": "ipython3",
   "version": "3.6.3"
  }
 },
 "nbformat": 4,
 "nbformat_minor": 2
}

{
 "cells": [
  {
   "cell_type": "markdown",
   "metadata": {},
   "source": [
    "# Woessmann - The Importance of School System"
   ]
  },
  {
   "cell_type": "markdown",
   "metadata": {},
   "source": [
    "This notebook replicates results from\n",
    "\n",
    "L. Woessmann (2016), The Importance of School Systems: Evidence from International Differences in Student Achievement.\n",
    "Journal of Economic Perspectives—Volume 30, Number 3, Pages 3–32"
   ]
  },
  {
   "cell_type": "code",
   "execution_count": 1,
   "metadata": {
    "collapsed": true
   },
   "outputs": [],
   "source": [
    "import pandas as pd\n",
    "import numpy as np\n",
    "import statsmodels.api as sm\n",
    "import seaborn as sns\n",
    "import matplotlib.pyplot as plt\n",
    "from IPython.display import Image"
   ]
  },
  {
   "cell_type": "markdown",
   "metadata": {},
   "source": [
    "## Introduction"
   ]
  },
  {
   "cell_type": "markdown",
   "metadata": {},
   "source": [
    "Woessmann shows in his paper that differences in student achievement across countries are systematically related to differences in organisation and governance of school systems, such as external exit exams, autonomy of course and teacher choice. In other words, the way the school system is set up matters for student performance.\n",
    "\n",
    "\n",
    "**Agenda of the paper:** \n",
    "\n",
    "* Woessmann first describes the size and cross-test consistency of international differences in student achievement,\n",
    "* then uses an education production function to describe the relation of factors of (and beyond the) respective school system to achievement differences,\n",
    "* and adds a discussion and conclusion.\n",
    "\n",
    "The education production function used by the author is given by:\n",
    "\n",
    "$achievement_s = \\alpha family + \\beta resources + \\gamma institutional$\n",
    "    \n",
    "where achievement is the student achievement by country, which is regressed on three collapsed aggregate country level variables: family background, school resources and institutional structures of the school system"
   ]
  },
  {
   "cell_type": "markdown",
   "metadata": {},
   "source": [
    "## Visualization of the Identification Strategy & Issues"
   ]
  },
  {
   "cell_type": "markdown",
   "metadata": {
    "collapsed": true
   },
   "source": [
    "As outlined before, Woessmann tries to explain the variation of student test achievement with three factors: family, resources, and institutional structures.\n",
    "![title](DAG_identification.png)"
   ]
  },
  {
   "cell_type": "markdown",
   "metadata": {
    "collapsed": true
   },
   "source": [
    "Each input factor, by itself, somehow influences student achievement: within school resources, there is the amount of money allocated to the respective schools, family background is fleshed out by a student family's immigration status or their neighbourhood. Institutional structures is determined by whether students face external exit exams, whether schools may hire autonomously and may choose their teachers' salary.\n",
    "\n",
    "However, the picture is not as simple as shown above.\n",
    "![title](DAG_discussion.png)\n"
   ]
  },
  {
   "cell_type": "markdown",
   "metadata": {},
   "source": [
    "Here comes the part about the problems talked about in the paper. Need to add a dependency achievement to school resources."
   ]
  },
  {
   "cell_type": "markdown",
   "metadata": {},
   "source": [
    "![title](DAG_discussion2.png)\n",
    "This is what I think should be added as well: dependency between school system and school resources and what I call test taking: students may differ in their maturity (e.g. take this test actually seriously and not just write anything) and also might differ in their test taking ability - and if that is low, they might choose not to take it even when selected to do so and rather e.g. play ill."
   ]
  },
  {
   "cell_type": "markdown",
   "metadata": {},
   "source": [
    "## Data Analysis"
   ]
  },
  {
   "cell_type": "markdown",
   "metadata": {},
   "source": [
    "After a discussion of various international tests, they select the OECD PISA test with data from 2003. PISA assesses \"knowledge and skills essential for full participation in our modern society\" (footnote) and draws a random sample of 15year-olds in a two-stage sampling. The dataset they work with relates school system to student achievement in 29 OECD countries."
   ]
  },
  {
   "cell_type": "code",
   "execution_count": 3,
   "metadata": {
    "collapsed": true
   },
   "outputs": [],
   "source": [
    "# Read in the data and convert .dta file to .csv\n",
    "data = pd.io.stata.read_stata('data/pisa2003_oecd_jep.dta')\n",
    "data.to_csv('data/pisa2003_oecd_jep.csv')\n",
    "\n",
    "# Create pandas Dataframe\n",
    "df = pd.DataFrame(data=data)"
   ]
  },
  {
   "cell_type": "markdown",
   "metadata": {},
   "source": [
    "As the author focuses on three groups of input factors: family background factors, institutional factors, and school resources, the next table is created to get a nice first look at the data."
   ]
  },
  {
   "cell_type": "code",
   "execution_count": 4,
   "metadata": {},
   "outputs": [
    {
     "data": {
      "text/html": [
       "<div>\n",
       "<style scoped>\n",
       "    .dataframe tbody tr th:only-of-type {\n",
       "        vertical-align: middle;\n",
       "    }\n",
       "\n",
       "    .dataframe tbody tr th {\n",
       "        vertical-align: top;\n",
       "    }\n",
       "\n",
       "    .dataframe thead tr th {\n",
       "        text-align: left;\n",
       "    }\n",
       "</style>\n",
       "<table border=\"1\" class=\"dataframe\">\n",
       "  <thead>\n",
       "    <tr>\n",
       "      <th></th>\n",
       "      <th>test_score</th>\n",
       "      <th colspan=\"6\" halign=\"left\">School resources</th>\n",
       "      <th colspan=\"3\" halign=\"left\">Family Background</th>\n",
       "      <th>...</th>\n",
       "      <th colspan=\"10\" halign=\"left\">Institution</th>\n",
       "    </tr>\n",
       "    <tr>\n",
       "      <th></th>\n",
       "      <th>pv1math</th>\n",
       "      <th>expps</th>\n",
       "      <th>davailinstmat4</th>\n",
       "      <th>davailinstmat1</th>\n",
       "      <th>insttimemath</th>\n",
       "      <th>propcert</th>\n",
       "      <th>propqped</th>\n",
       "      <th>escs</th>\n",
       "      <th>age</th>\n",
       "      <th>female</th>\n",
       "      <th>...</th>\n",
       "      <th>purcompave</th>\n",
       "      <th>purstudgrp</th>\n",
       "      <th>autstartsal</th>\n",
       "      <th>icautstartsal</th>\n",
       "      <th>autformbudget</th>\n",
       "      <th>icautformbudget</th>\n",
       "      <th>autcontent</th>\n",
       "      <th>icautcontent</th>\n",
       "      <th>authire</th>\n",
       "      <th>icauthire</th>\n",
       "    </tr>\n",
       "  </thead>\n",
       "  <tbody>\n",
       "    <tr>\n",
       "      <th>0</th>\n",
       "      <td>418.086914</td>\n",
       "      <td>59.264999</td>\n",
       "      <td>0.0</td>\n",
       "      <td>0.0</td>\n",
       "      <td>0.0</td>\n",
       "      <td>1.0</td>\n",
       "      <td>0.62</td>\n",
       "      <td>-0.758119</td>\n",
       "      <td>16.25</td>\n",
       "      <td>0</td>\n",
       "      <td>...</td>\n",
       "      <td>0.0</td>\n",
       "      <td>1.0</td>\n",
       "      <td>0.0</td>\n",
       "      <td>0.0</td>\n",
       "      <td>1.0</td>\n",
       "      <td>0.814</td>\n",
       "      <td>1.0</td>\n",
       "      <td>0.814</td>\n",
       "      <td>0.0</td>\n",
       "      <td>0.0</td>\n",
       "    </tr>\n",
       "    <tr>\n",
       "      <th>1</th>\n",
       "      <td>446.985504</td>\n",
       "      <td>59.264999</td>\n",
       "      <td>0.0</td>\n",
       "      <td>0.0</td>\n",
       "      <td>300.0</td>\n",
       "      <td>1.0</td>\n",
       "      <td>0.63</td>\n",
       "      <td>0.706989</td>\n",
       "      <td>15.92</td>\n",
       "      <td>0</td>\n",
       "      <td>...</td>\n",
       "      <td>0.0</td>\n",
       "      <td>1.0</td>\n",
       "      <td>0.0</td>\n",
       "      <td>0.0</td>\n",
       "      <td>1.0</td>\n",
       "      <td>0.814</td>\n",
       "      <td>1.0</td>\n",
       "      <td>0.814</td>\n",
       "      <td>0.0</td>\n",
       "      <td>0.0</td>\n",
       "    </tr>\n",
       "    <tr>\n",
       "      <th>2</th>\n",
       "      <td>501.822693</td>\n",
       "      <td>59.264999</td>\n",
       "      <td>0.0</td>\n",
       "      <td>0.0</td>\n",
       "      <td>250.0</td>\n",
       "      <td>1.0</td>\n",
       "      <td>0.90</td>\n",
       "      <td>-0.542674</td>\n",
       "      <td>16.00</td>\n",
       "      <td>1</td>\n",
       "      <td>...</td>\n",
       "      <td>0.0</td>\n",
       "      <td>1.0</td>\n",
       "      <td>0.0</td>\n",
       "      <td>0.0</td>\n",
       "      <td>1.0</td>\n",
       "      <td>0.814</td>\n",
       "      <td>1.0</td>\n",
       "      <td>0.814</td>\n",
       "      <td>0.0</td>\n",
       "      <td>0.0</td>\n",
       "    </tr>\n",
       "    <tr>\n",
       "      <th>3</th>\n",
       "      <td>506.807892</td>\n",
       "      <td>59.264999</td>\n",
       "      <td>0.0</td>\n",
       "      <td>0.0</td>\n",
       "      <td>500.0</td>\n",
       "      <td>1.0</td>\n",
       "      <td>0.68</td>\n",
       "      <td>-0.267831</td>\n",
       "      <td>15.33</td>\n",
       "      <td>1</td>\n",
       "      <td>...</td>\n",
       "      <td>0.0</td>\n",
       "      <td>1.0</td>\n",
       "      <td>0.0</td>\n",
       "      <td>0.0</td>\n",
       "      <td>1.0</td>\n",
       "      <td>0.814</td>\n",
       "      <td>1.0</td>\n",
       "      <td>0.814</td>\n",
       "      <td>0.0</td>\n",
       "      <td>0.0</td>\n",
       "    </tr>\n",
       "    <tr>\n",
       "      <th>4</th>\n",
       "      <td>341.828888</td>\n",
       "      <td>59.264999</td>\n",
       "      <td>0.0</td>\n",
       "      <td>0.0</td>\n",
       "      <td>200.0</td>\n",
       "      <td>1.0</td>\n",
       "      <td>0.62</td>\n",
       "      <td>0.021161</td>\n",
       "      <td>15.92</td>\n",
       "      <td>1</td>\n",
       "      <td>...</td>\n",
       "      <td>0.0</td>\n",
       "      <td>1.0</td>\n",
       "      <td>0.0</td>\n",
       "      <td>0.0</td>\n",
       "      <td>1.0</td>\n",
       "      <td>0.814</td>\n",
       "      <td>1.0</td>\n",
       "      <td>0.814</td>\n",
       "      <td>0.0</td>\n",
       "      <td>0.0</td>\n",
       "    </tr>\n",
       "  </tbody>\n",
       "</table>\n",
       "<p>5 rows × 57 columns</p>\n",
       "</div>"
      ],
      "text/plain": [
       "   test_score School resources                                             \\\n",
       "      pv1math            expps davailinstmat4 davailinstmat1 insttimemath   \n",
       "0  418.086914        59.264999            0.0            0.0          0.0   \n",
       "1  446.985504        59.264999            0.0            0.0        300.0   \n",
       "2  501.822693        59.264999            0.0            0.0        250.0   \n",
       "3  506.807892        59.264999            0.0            0.0        500.0   \n",
       "4  341.828888        59.264999            0.0            0.0        200.0   \n",
       "\n",
       "                    Family Background                ... Institution  \\\n",
       "  propcert propqped              escs    age female  ...  purcompave   \n",
       "0      1.0     0.62         -0.758119  16.25      0  ...         0.0   \n",
       "1      1.0     0.63          0.706989  15.92      0  ...         0.0   \n",
       "2      1.0     0.90         -0.542674  16.00      1  ...         0.0   \n",
       "3      1.0     0.68         -0.267831  15.33      1  ...         0.0   \n",
       "4      1.0     0.62          0.021161  15.92      1  ...         0.0   \n",
       "\n",
       "                                                                      \\\n",
       "  purstudgrp autstartsal icautstartsal autformbudget icautformbudget   \n",
       "0        1.0         0.0           0.0           1.0           0.814   \n",
       "1        1.0         0.0           0.0           1.0           0.814   \n",
       "2        1.0         0.0           0.0           1.0           0.814   \n",
       "3        1.0         0.0           0.0           1.0           0.814   \n",
       "4        1.0         0.0           0.0           1.0           0.814   \n",
       "\n",
       "                                             \n",
       "  autcontent icautcontent authire icauthire  \n",
       "0        1.0        0.814     0.0       0.0  \n",
       "1        1.0        0.814     0.0       0.0  \n",
       "2        1.0        0.814     0.0       0.0  \n",
       "3        1.0        0.814     0.0       0.0  \n",
       "4        1.0        0.814     0.0       0.0  \n",
       "\n",
       "[5 rows x 57 columns]"
      ]
     },
     "execution_count": 4,
     "metadata": {},
     "output_type": "execute_result"
    }
   ],
   "source": [
    "# create new dataset with all the variables sorted into the higher order input factors\n",
    "c_res = df[['expps', 'davailinstmat4', 'davailinstmat1', 'insttimemath', 'propcert', 'propqped']]\n",
    "c_fam = df[['escs', 'age', 'female', 'dstupreprim2', 'ageprim', 'repisced1', 'repisced2', 'dgrade7', 'dgrade8', 'dgrade9', 'dgrade11', 'dgrade12', 'dliveone', 'dlivepatch', 'dliveboth', 'dworkstat4', 'dworkstat3', 'dworkstat2', 'dworkstat1', 'dhsecateg3', 'dhsecateg2', 'dhsecateg1', 'dbook2', 'dbook3', 'dbook4', 'dbook5', 'dbook6', 'dimmig2', 'dimmig3', 'dstulanguage3', 'dstulanguage4', 'dschoolloc23', 'dschoolloc4', 'dschoolloc5']]\n",
    "c_ins = df[['cprivate', 'cschoolbudgetgov', 'mcentexa', 'purstudret', 'teacassprin', 'teacassextinsp', 'purcompave', 'purstudgrp', 'autstartsal', 'icautstartsal', 'autformbudget', 'icautformbudget', 'autcontent', 'icautcontent', 'authire', 'icauthire']]\n",
    "\n",
    "df_overview = pd.concat([df['pv1math'], c_res, c_fam, c_ins], axis =1, keys=['test_score', 'School resources', 'Family Background', 'Institution'])\n",
    "df_overview.head()"
   ]
  },
  {
   "cell_type": "markdown",
   "metadata": {},
   "source": [
    "The PISA test draws a random sample of 15-year-olds to take it; let's look at the age distribution in the data."
   ]
  },
  {
   "cell_type": "code",
   "execution_count": 5,
   "metadata": {},
   "outputs": [
    {
     "data": {
      "image/png": "[encoded data removed]",
      "text/plain": [
       "<matplotlib.figure.Figure at 0xa017450>"
      ]
     },
     "metadata": {},
     "output_type": "display_data"
    }
   ],
   "source": [
    "# Create plot for age distribution.\n",
    "columns = ['age']\n",
    "for column in columns:\n",
    "    nonzero_entries = df[column].where(df[column] > 0).dropna()\n",
    "    ax = sns.distplot(nonzero_entries)\n",
    "    ax.set_xlim(15.2, 16.4)\n",
    "    plt.show()  "
   ]
  },
  {
   "cell_type": "markdown",
   "metadata": {},
   "source": [
    "Apparently, 16-year-olds classify as 15 with PISA. There might be some time difference between selection and test-taking... Need to read up on this.\n",
    "\n",
    "Also interesting: the distribution between male and female test-takers and the distribution of test scores."
   ]
  },
  {
   "cell_type": "code",
   "execution_count": 6,
   "metadata": {},
   "outputs": [
    {
     "name": "stderr",
     "output_type": "stream",
     "text": [
      "C:\\Users\\Eva\\AppData\\Local\\Continuum\\anaconda3\\lib\\site-packages\\seaborn\\categorical.py:1460: FutureWarning: remove_na is deprecated and is a private function. Do not use.\n",
      "  stat_data = remove_na(group_data)\n"
     ]
    },
    {
     "data": {
      "image/png": "[encoded data removed]",
      "text/plain": [
       "<matplotlib.figure.Figure at 0xfee1610>"
      ]
     },
     "metadata": {},
     "output_type": "display_data"
    },
    {
     "name": "stderr",
     "output_type": "stream",
     "text": [
      "C:\\Users\\Eva\\AppData\\Local\\Continuum\\anaconda3\\lib\\site-packages\\seaborn\\categorical.py:1460: FutureWarning: remove_na is deprecated and is a private function. Do not use.\n",
      "  stat_data = remove_na(group_data)\n"
     ]
    },
    {
     "data": {
      "image/png": "[encoded data removed]",
      "text/plain": [
       "<matplotlib.figure.Figure at 0x9f69590>"
      ]
     },
     "metadata": {},
     "output_type": "display_data"
    }
   ],
   "source": [
    "# Create plots for sex and test score distribution.\n",
    "columns = ['female', 'pv1math']\n",
    "for column in columns:\n",
    "    sns.countplot(df[column], color=\"#1f77b4\")\n",
    "    plt.show()"
   ]
  },
  {
   "cell_type": "markdown",
   "metadata": {},
   "source": [
    "The number of male/female test takers is pretty equal. The math test scores measured by 'pv1math' looks pretty normally distributed, though I have to do something with the labelling of the x-axis.\n",
    "\n",
    "As this paper is titled \"The Importance of School Systems\", I want to do a rough comparison between institutional factors and test scores."
   ]
  },
  {
   "cell_type": "code",
   "execution_count": 17,
   "metadata": {},
   "outputs": [
    {
     "data": {
      "text/html": [
       "<div>\n",
       "<style scoped>\n",
       "    .dataframe tbody tr th:only-of-type {\n",
       "        vertical-align: middle;\n",
       "    }\n",
       "\n",
       "    .dataframe tbody tr th {\n",
       "        vertical-align: top;\n",
       "    }\n",
       "\n",
       "    .dataframe thead th {\n",
       "        text-align: right;\n",
       "    }\n",
       "</style>\n",
       "<table border=\"1\" class=\"dataframe\">\n",
       "  <thead>\n",
       "    <tr style=\"text-align: right;\">\n",
       "      <th></th>\n",
       "      <th>count</th>\n",
       "      <th>unique</th>\n",
       "      <th>top</th>\n",
       "      <th>freq</th>\n",
       "    </tr>\n",
       "    <tr>\n",
       "      <th>D</th>\n",
       "      <th></th>\n",
       "      <th></th>\n",
       "      <th></th>\n",
       "      <th></th>\n",
       "    </tr>\n",
       "  </thead>\n",
       "  <tbody>\n",
       "    <tr>\n",
       "      <th>0.0</th>\n",
       "      <td>123665.0</td>\n",
       "      <td>5471.0</td>\n",
       "      <td>537.965393</td>\n",
       "      <td>102.0</td>\n",
       "    </tr>\n",
       "    <tr>\n",
       "      <th>1.0</th>\n",
       "      <td>96129.0</td>\n",
       "      <td>5061.0</td>\n",
       "      <td>482.660889</td>\n",
       "      <td>91.0</td>\n",
       "    </tr>\n",
       "  </tbody>\n",
       "</table>\n",
       "</div>"
      ],
      "text/plain": [
       "        count  unique         top   freq\n",
       "D                                       \n",
       "0.0  123665.0  5471.0  537.965393  102.0\n",
       "1.0   96129.0  5061.0  482.660889   91.0"
      ]
     },
     "execution_count": 17,
     "metadata": {},
     "output_type": "execute_result"
    },
    {
     "data": {
      "image/png": "[encoded data removed]",
      "text/plain": [
       "<matplotlib.figure.Figure at 0x19b98450>"
      ]
     },
     "metadata": {},
     "output_type": "display_data"
    }
   ],
   "source": [
    "# Group the sample into those schools with more autonomy (may hire) and those with less.\n",
    "may_hire = df['icauthire'] >= 0.5 \n",
    "df['Y'] = df['pv1math']\n",
    "\n",
    "df['D'] = np.nan\n",
    "df.loc[~may_hire, 'D'] = 0\n",
    "df.loc[may_hire, 'D'] = 1\n",
    "\n",
    "%matplotlib inline\n",
    "ax = sns.distplot(df['Y'][~may_hire], label='less_autonomy')\n",
    "ax = sns.distplot(df['Y'][may_hire], label='school_autonomy')\n",
    "ax.set_xlim(150, 850)\n",
    "ax.legend();\n",
    "\n",
    "df.groupby('D')['pv1math'].describe()\n"
   ]
  },
  {
   "cell_type": "markdown",
   "metadata": {},
   "source": [
    "There clearly is a difference in test scores between schools of the two groups. D, here, is the treatment: a school may choose by itself whom to hire or not. I need to add a more thourough description of 'icauthire'."
   ]
  },
  {
   "cell_type": "code",
   "execution_count": 21,
   "metadata": {},
   "outputs": [
    {
     "data": {
      "text/html": [
       "<div>\n",
       "<style scoped>\n",
       "    .dataframe tbody tr th:only-of-type {\n",
       "        vertical-align: middle;\n",
       "    }\n",
       "\n",
       "    .dataframe tbody tr th {\n",
       "        vertical-align: top;\n",
       "    }\n",
       "\n",
       "    .dataframe thead th {\n",
       "        text-align: right;\n",
       "    }\n",
       "</style>\n",
       "<table border=\"1\" class=\"dataframe\">\n",
       "  <thead>\n",
       "    <tr style=\"text-align: right;\">\n",
       "      <th></th>\n",
       "      <th>count</th>\n",
       "      <th>unique</th>\n",
       "      <th>top</th>\n",
       "      <th>freq</th>\n",
       "    </tr>\n",
       "    <tr>\n",
       "      <th>D</th>\n",
       "      <th></th>\n",
       "      <th></th>\n",
       "      <th></th>\n",
       "      <th></th>\n",
       "    </tr>\n",
       "  </thead>\n",
       "  <tbody>\n",
       "    <tr>\n",
       "      <th>0.0</th>\n",
       "      <td>182771.0</td>\n",
       "      <td>5707.0</td>\n",
       "      <td>537.965393</td>\n",
       "      <td>145.0</td>\n",
       "    </tr>\n",
       "    <tr>\n",
       "      <th>1.0</th>\n",
       "      <td>37023.0</td>\n",
       "      <td>4457.0</td>\n",
       "      <td>527.839172</td>\n",
       "      <td>37.0</td>\n",
       "    </tr>\n",
       "  </tbody>\n",
       "</table>\n",
       "</div>"
      ],
      "text/plain": [
       "        count  unique         top   freq\n",
       "D                                       \n",
       "0.0  182771.0  5707.0  537.965393  145.0\n",
       "1.0   37023.0  4457.0  527.839172   37.0"
      ]
     },
     "execution_count": 21,
     "metadata": {},
     "output_type": "execute_result"
    },
    {
     "data": {
      "image/png": "[encoded data removed]",
      "text/plain": [
       "<matplotlib.figure.Figure at 0x19b91b30>"
      ]
     },
     "metadata": {},
     "output_type": "display_data"
    }
   ],
   "source": [
    "# Group the sample into those schools with more autonomy (here:choose the starting salary) and those with less.\n",
    "choose_salary = df['icautstartsal'] >= 0.5 \n",
    "df['Y'] = df['pv1math']\n",
    "\n",
    "df['D'] = np.nan\n",
    "df.loc[~choose_salary, 'D'] = 0\n",
    "df.loc[choose_salary, 'D'] = 1\n",
    "\n",
    "ax = sns.distplot(df['Y'][~may_hire], label='less_autonomy')\n",
    "ax = sns.distplot(df['Y'][may_hire], label='school_autonomy')\n",
    "ax.set_xlim(150, 850)\n",
    "ax.legend();\n",
    "\n",
    "df.groupby('D')['pv1math'].describe()"
   ]
  },
  {
   "cell_type": "markdown",
   "metadata": {},
   "source": [
    "Instead of seeing whether the schools could hire as they pleased, autonomy here is proxied by to which degree schools can choose the starting salary of teachers. The graph looks pretty similar to the other one: Again, those schools with higher autonomy have students with higher test scores."
   ]
  },
  {
   "cell_type": "markdown",
   "metadata": {},
   "source": [
    "## Replication"
   ]
  },
  {
   "cell_type": "code",
   "execution_count": null,
   "metadata": {
    "collapsed": true
   },
   "outputs": [],
   "source": []
  },
  {
   "cell_type": "code",
   "execution_count": null,
   "metadata": {
    "collapsed": true
   },
   "outputs": [],
   "source": []
  }
 ],
 "metadata": {
  "kernelspec": {
   "display_name": "Python 3",
   "language": "python",
   "name": "python3"
  },
  "language_info": {
   "codemirror_mode": {
    "name": "ipython",
    "version": 3
   },
   "file_extension": ".py",
   "mimetype": "text/x-python",
   "name": "python",
   "nbconvert_exporter": "python",
   "pygments_lexer": "ipython3",
   "version": "3.6.3"
  }
 },
 "nbformat": 4,
 "nbformat_minor": 2
}
